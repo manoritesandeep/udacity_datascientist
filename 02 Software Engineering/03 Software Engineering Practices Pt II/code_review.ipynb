{
 "cells": [
  {
   "cell_type": "code",
   "execution_count": 35,
   "metadata": {},
   "outputs": [],
   "source": [
    "import numpy as np\n",
    "import pandas as pd"
   ]
  },
  {
   "cell_type": "code",
   "execution_count": 36,
   "metadata": {},
   "outputs": [],
   "source": [
    "# Since file does not exist we create a text file with random numbers\n",
    "input_vals = np.array(np.random.randint(1, 1000, 757))\n",
    "np.savetxt('input_values.txt', input_vals, newline='\\n', fmt=\"%d\")\n",
    "# lotto_649"
   ]
  },
  {
   "cell_type": "code",
   "execution_count": 38,
   "metadata": {},
   "outputs": [
    {
     "name": "stdout",
     "output_type": "stream",
     "text": [
      "111\n"
     ]
    }
   ],
   "source": [
    "# with open('input_values.txt') as f:\n",
    "#     nums = f.read().strip(\"\").split('\\n')\n",
    "#     nums = np.array(nums).astype(int)  # convert string to int\n",
    "#     total = 0\n",
    "#     for x in nums:\n",
    "#       if (x < 15):\n",
    "#         total += x\n",
    "#     print(total)\n",
    "\n",
    "\n",
    "with open('input_values.txt') as f:\n",
    "    nums = f.read().strip(\"\").split('\\n')\n",
    "    nums = [int(num) for num in nums if num != '']  # convert non-empty strings to int\n",
    "    total = 0\n",
    "    for x in nums:\n",
    "        if x < 15:\n",
    "            total += x\n",
    "    print(total)"
   ]
  },
  {
   "cell_type": "markdown",
   "metadata": {},
   "source": [
    "Part 1:\n",
    "\n",
    "Select 5 questions that you used to evaluate the code, one from each category on the \"Questions for a code review\" page.\n",
    "In the response box below, type each question along with how you would answer it based on the given code.\n",
    "\n",
    "Things to think about\n",
    "\n",
    "Here is a sample solution. Your solution may differ slightly.\n",
    "\n",
    "- Does the code use meaningful names and whitespace? While the code is fairly short and easy to follow thanks to the use of good whitespace, it's not totally clear what is going on and this could be improved with descriptive variable names.\n",
    "- Are there loops or other steps I can vectorized? It looks like the for loop could be vectorized to improve performance a considerable amount.\n",
    "- Is there complex code that's missing documentation? In general, there seems to be a lack of documentation. Given that the code is short there is likely not much documentation that is needed, but having a better indication of what the code is doing (and why) would be helpful.\n",
    "- Does the code have test coverage? There was no test file shown, so the assumption would be that this code has not been thoroughly tested.\n",
    "- Are log messages clear, concise, and professional? This code contains no log messages."
   ]
  },
  {
   "cell_type": "markdown",
   "metadata": {},
   "source": [
    "Part 2:\n",
    "\n",
    "Write three separate recommendations that you would provide to your colleague in the space below. Due to time constraints, assume that you are unable to further discuss any feedback in person, so feedback comments must be clear, complete, and appropriate for the code review.\n",
    "Your reflection\n",
    "\n",
    "\n",
    "Here are three sample recommendations, however there are several that you could have come up with. For each of your recommendations, check that they are professional, are offered as suggestions and not demands, and avoid the use of \"I\" or \"you.\" The goal is not to criticize the person, but more so to improve the code.\n",
    "- The first recommendation would be to change some of the variable names to be more descriptive. For example, `nums` could be more reflective of what the values in the input file represent, along with the variables x and total that are used in the for loop.\n",
    "- In order to improve the efficiency, another recommendation would be to replace the for loop with the following vector operation: total = (nums[nums < 25]).sum()\n",
    "- Lastly, is there recommended test data that exists that wasn't passed along with the code? If not, it is always necessary to test code, especially code that will be going into production."
   ]
  },
  {
   "cell_type": "code",
   "execution_count": null,
   "metadata": {},
   "outputs": [],
   "source": []
  }
 ],
 "metadata": {
  "kernelspec": {
   "display_name": "uda_ds_venv",
   "language": "python",
   "name": "python3"
  },
  "language_info": {
   "codemirror_mode": {
    "name": "ipython",
    "version": 3
   },
   "file_extension": ".py",
   "mimetype": "text/x-python",
   "name": "python",
   "nbconvert_exporter": "python",
   "pygments_lexer": "ipython3",
   "version": "3.8.10"
  },
  "orig_nbformat": 4
 },
 "nbformat": 4,
 "nbformat_minor": 2
}
